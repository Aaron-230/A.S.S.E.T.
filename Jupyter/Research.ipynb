{
 "cells": [
  {
   "cell_type": "markdown",
   "id": "cb378819",
   "metadata": {},
   "source": [
    "This is just the Research part of the whole Project, A.S.S.E.T. or Algorithmic Stock Selection & Estimation Tool and this is just the basic version and the frontend part will be developed and deployed."
   ]
  },
  {
   "cell_type": "markdown",
   "id": "53f9a74a",
   "metadata": {},
   "source": [
    "First and Foremost, We need to import the libraries."
   ]
  },
  {
   "cell_type": "code",
   "execution_count": null,
   "id": "dc03ee5d",
   "metadata": {},
   "outputs": [],
   "source": [
    "from google import genai as GenAI\n",
    "from google.genai import types as Types"
   ]
  },
  {
   "cell_type": "markdown",
   "id": "3f63d4fc",
   "metadata": {},
   "source": [
    "Next, we create a client to access Gemini with the help of [Gemini API](https://aistudio.google.com/apikey)"
   ]
  },
  {
   "cell_type": "code",
   "execution_count": null,
   "id": "41ee9a86",
   "metadata": {},
   "outputs": [],
   "source": [
    "GeminiAPIKey = \"Your API Key Here\"\n",
    "Gemini = GenAI.Client(api_key=GeminiAPIKey)"
   ]
  },
  {
   "cell_type": "markdown",
   "id": "17be9611",
   "metadata": {},
   "source": [
    "Now, We are adding the necessary modifications to turn Gemini into A.S.S.E.T."
   ]
  },
  {
   "cell_type": "code",
   "execution_count": null,
   "id": "be1e0c53",
   "metadata": {},
   "outputs": [],
   "source": [
    "SearchTool = Types.Tool(google_search=Types.GoogleSearch())\n",
    "Model = open(\"Model.txt\")\n",
    "ASSET = Model.read()\n",
    "Config = Types.GenerateContentConfig(tools=[SearchTool], system_instruction=ASSET)"
   ]
  },
  {
   "cell_type": "markdown",
   "id": "4b2a9801",
   "metadata": {},
   "source": [
    "Lastly, We create a endless loop where we can ask questions to ASSET and on entering ``` \"Bye!\" ``` The System Closes."
   ]
  },
  {
   "cell_type": "code",
   "execution_count": null,
   "id": "fedc9f9d",
   "metadata": {},
   "outputs": [],
   "source": [
    "while True:\n",
    "    Content = input(\"Enter: \")\n",
    "    Response = Gemini.models.generate_content(model=\"gemini-2.5-flash\", contents=Content, config=Config)\n",
    "    print(Response.text)\n",
    "\n",
    "    if Content == \"Bye!\":\n",
    "        break"
   ]
  }
 ],
 "metadata": {
  "kernelspec": {
   "display_name": "Python 3",
   "language": "python",
   "name": "python3"
  },
  "language_info": {
   "name": "python",
   "version": "3.10.12"
  }
 },
 "nbformat": 4,
 "nbformat_minor": 5
}
